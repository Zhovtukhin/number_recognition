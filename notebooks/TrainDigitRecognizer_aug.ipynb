{
  "nbformat": 4,
  "nbformat_minor": 0,
  "metadata": {
    "colab": {
      "name": "TrainDigitRecognizer_aug.ipynb",
      "provenance": [],
      "collapsed_sections": []
    },
    "kernelspec": {
      "name": "python3",
      "display_name": "Python 3"
    },
    "accelerator": "GPU"
  },
  "cells": [
    {
      "cell_type": "code",
      "metadata": {
        "id": "x_fPhAC9u2FE",
        "colab_type": "code",
        "outputId": "8ee540e5-83eb-4d23-dc38-4f6f57caccf2",
        "colab": {
          "base_uri": "https://localhost:8080/",
          "height": 34
        }
      },
      "source": [
        "#use Google Coolab with free GPU to train model\n",
        "from google.colab import drive\n",
        "drive.mount('/content/gdrive')"
      ],
      "execution_count": 1,
      "outputs": [
        {
          "output_type": "stream",
          "text": [
            "Drive already mounted at /content/gdrive; to attempt to forcibly remount, call drive.mount(\"/content/gdrive\", force_remount=True).\n"
          ],
          "name": "stdout"
        }
      ]
    },
    {
      "cell_type": "code",
      "metadata": {
        "id": "kWQfJ0MPvGXJ",
        "colab_type": "code",
        "colab": {}
      },
      "source": [
        "import os\n",
        "import time\n",
        "import copy\n",
        "\n",
        "from typing import Iterable\n",
        "from dataclasses import dataclass\n",
        "\n",
        "import cv2\n",
        "import numpy as np\n",
        "import matplotlib.pyplot as plt\n",
        "\n",
        "import torch\n",
        "import torch.nn as nn\n",
        "import torch.optim as optim\n",
        "import torch.nn.functional as F\n",
        "\n",
        "from torch.utils.data import DataLoader\n",
        "from torchvision import datasets, transforms"
      ],
      "execution_count": 0,
      "outputs": []
    },
    {
      "cell_type": "code",
      "metadata": {
        "id": "7MIBzDDPvI80",
        "colab_type": "code",
        "colab": {}
      },
      "source": [
        "#LeNet with Batch Normalization\n",
        "class LeNetBN(nn.Module):\n",
        "    def __init__(self):\n",
        "        super().__init__()\n",
        "\n",
        "        # convolution layers\n",
        "        self._body = nn.Sequential(\n",
        "            # First convolution Layer\n",
        "            # input size = (32, 32), output size = (28, 28)\n",
        "            nn.Conv2d(in_channels=1, out_channels=6, kernel_size=5),\n",
        "            nn.BatchNorm2d(6),\n",
        "            # ReLU activation\n",
        "            nn.ReLU(inplace=True),\n",
        "            # Max pool 2-d\n",
        "            nn.MaxPool2d(kernel_size=2),\n",
        "            \n",
        "            # Second convolution layer\n",
        "            # input size = (14, 14), output size = (10, 10)\n",
        "            nn.Conv2d(in_channels=6, out_channels=16, kernel_size=5),\n",
        "            nn.BatchNorm2d(16),\n",
        "            nn.ReLU(inplace=True),\n",
        "            nn.MaxPool2d(kernel_size=2),\n",
        "            # output size = (5, 5)\n",
        "        )\n",
        "        \n",
        "        # Fully connected layers\n",
        "        self._head = nn.Sequential(\n",
        "            # First fully connected layer\n",
        "            # in_features = total number of weight in last conv layer = 16 * 5 * 5\n",
        "            nn.Linear(in_features=16 * 5 * 5, out_features=120), \n",
        "            \n",
        "            # ReLU activation\n",
        "            nn.ReLU(inplace=True),\n",
        "            \n",
        "            # second fully connected layer\n",
        "            # in_features = output of last linear layer = 120 \n",
        "            nn.Linear(in_features=120, out_features=84), \n",
        "            \n",
        "            # ReLU activation\n",
        "            nn.ReLU(inplace=True),\n",
        "            \n",
        "            # Third fully connected layer. It is also output layer\n",
        "            # in_features = output of last linear layer = 84\n",
        "            # and out_features = number of classes = 10 (0-9)\n",
        "            nn.Linear(in_features=84, out_features=10)\n",
        "        )\n",
        "\n",
        "    def forward(self, x):\n",
        "        # apply feature extractor\n",
        "        x = self._body(x)\n",
        "        # flatten the output of conv layers\n",
        "        # dimension should be batch_size * number_of weight_in_last conv_layer\n",
        "        x = x.view(x.size()[0], -1)\n",
        "        # apply classification head\n",
        "        x = self._head(x)\n",
        "        return x\n"
      ],
      "execution_count": 0,
      "outputs": []
    },
    {
      "cell_type": "code",
      "metadata": {
        "id": "0skH0fkYQSsj",
        "colab_type": "code",
        "colab": {
          "base_uri": "https://localhost:8080/",
          "height": 336
        },
        "outputId": "a3c7b1fc-2876-418a-9ea4-685c2f2489ee"
      },
      "source": [
        "model = LeNetBN()\n",
        "print(model)"
      ],
      "execution_count": 4,
      "outputs": [
        {
          "output_type": "stream",
          "text": [
            "LeNetBN(\n",
            "  (_body): Sequential(\n",
            "    (0): Conv2d(1, 6, kernel_size=(5, 5), stride=(1, 1))\n",
            "    (1): BatchNorm2d(6, eps=1e-05, momentum=0.1, affine=True, track_running_stats=True)\n",
            "    (2): ReLU(inplace=True)\n",
            "    (3): MaxPool2d(kernel_size=2, stride=2, padding=0, dilation=1, ceil_mode=False)\n",
            "    (4): Conv2d(6, 16, kernel_size=(5, 5), stride=(1, 1))\n",
            "    (5): BatchNorm2d(16, eps=1e-05, momentum=0.1, affine=True, track_running_stats=True)\n",
            "    (6): ReLU(inplace=True)\n",
            "    (7): MaxPool2d(kernel_size=2, stride=2, padding=0, dilation=1, ceil_mode=False)\n",
            "  )\n",
            "  (_head): Sequential(\n",
            "    (0): Linear(in_features=400, out_features=120, bias=True)\n",
            "    (1): ReLU(inplace=True)\n",
            "    (2): Linear(in_features=120, out_features=84, bias=True)\n",
            "    (3): ReLU(inplace=True)\n",
            "    (4): Linear(in_features=84, out_features=10, bias=True)\n",
            "  )\n",
            ")\n"
          ],
          "name": "stdout"
        }
      ]
    },
    {
      "cell_type": "code",
      "metadata": {
        "id": "nJtgNZNb5oUw",
        "colab_type": "code",
        "colab": {
          "base_uri": "https://localhost:8080/",
          "height": 266
        },
        "outputId": "f845efef-2237-4415-f632-91023ed94d48"
      },
      "source": [
        "#generate diferent image of digits bby OpenCV\n",
        "train_aug = []\n",
        "for digit in range(10):\n",
        "    for font in [0,2,3,4,6,7]:\n",
        "        for scale in [0.8, 1.0]:\n",
        "            for color in [70, 100, 120, 160, 200, 220, 255]:\n",
        "                for thik in [0,1,2]:\n",
        "                    for line in [cv2.FILLED, cv2.LINE_4, cv2.LINE_8, cv2.LINE_AA]:\n",
        "                        img = np.zeros((32,32), dtype=np.uint8)\n",
        "                        img = cv2.putText(img, str(digit), (6,25), font, scale, color, thik, line)\n",
        "                        if(len(train_aug)==500):\n",
        "                          #for example\n",
        "                          plt.imshow(img,'gray');plt.show()\n",
        "                        train_aug.append((transforms.Normalize((0.0664, ), (0.2043, ))(transforms.ToTensor()(img)), digit)) #transform to tensor and normalize. put in list"
      ],
      "execution_count": 5,
      "outputs": [
        {
          "output_type": "display_data",
          "data": {
            "image/png": "[encoded data removed]",
            "text/plain": [
              "<Figure size 432x288 with 1 Axes>"
            ]
          },
          "metadata": {
            "tags": []
          }
        }
      ]
    },
    {
      "cell_type": "code",
      "metadata": {
        "id": "a4NNAxqC6aOl",
        "colab_type": "code",
        "colab": {
          "base_uri": "https://localhost:8080/",
          "height": 34
        },
        "outputId": "641def20-fd3e-44b0-9eb9-538d0df42ea3"
      },
      "source": [
        "len(train_aug)"
      ],
      "execution_count": 6,
      "outputs": [
        {
          "output_type": "execute_result",
          "data": {
            "text/plain": [
              "10080"
            ]
          },
          "metadata": {
            "tags": []
          },
          "execution_count": 6
        }
      ]
    },
    {
      "cell_type": "code",
      "metadata": {
        "id": "7Jzggwr8TOwo",
        "colab_type": "code",
        "colab": {
          "base_uri": "https://localhost:8080/",
          "height": 34
        },
        "outputId": "311d8a0f-4302-4afe-acff-c35d9a55aa56"
      },
      "source": [
        "test_aug = []\n",
        "for digit in range(10):\n",
        "    for scale in [0.8, 1.0]:\n",
        "        for color in [70, 100, 120, 160, 200, 220, 255]:\n",
        "            for thik in [0,1,2]:\n",
        "                for line in [cv2.FILLED, cv2.LINE_4, cv2.LINE_8, cv2.LINE_AA]:\n",
        "                    img = np.zeros((32,32), dtype=np.uint8)\n",
        "                    img = cv2.putText(img, str(digit), (6,25), 16, scale, color, thik, line)\n",
        "                    #plt.imshow(img,'gray');plt.show()\n",
        "                    test_aug.append((transforms.Normalize((0.0664, ), (0.2043, ))(transforms.ToTensor()(img)), digit))#transform to tensor and normalize. put in list\n",
        "print(len(test_aug))"
      ],
      "execution_count": 7,
      "outputs": [
        {
          "output_type": "stream",
          "text": [
            "1680\n"
          ],
          "name": "stdout"
        }
      ]
    },
    {
      "cell_type": "code",
      "metadata": {
        "id": "kk2gufzwQfgs",
        "colab_type": "code",
        "colab": {}
      },
      "source": [
        "torch.manual_seed(42)\n",
        "#if torch.cuda.is_available():\n",
        "#    torch.backend.cudnn_benchmark_enabled = True\n",
        "#    torch.backend.cudnn.deterministic = True\n",
        "\n",
        "#training parameters\n",
        "batch_size = 32\n",
        "epochs_count = 20\n",
        "learning_rate = 0.01\n",
        "log_interval = 100\n",
        "test_interval = 1\n",
        "num_workers  = 10\n",
        "device = 'cuda'"
      ],
      "execution_count": 0,
      "outputs": []
    },
    {
      "cell_type": "code",
      "metadata": {
        "id": "KhG-KqsEviSQ",
        "colab_type": "code",
        "outputId": "2857bd1a-3b0c-4222-9b4e-67e96bb0bcdd",
        "colab": {
          "base_uri": "https://localhost:8080/",
          "height": 34
        }
      },
      "source": [
        "if torch.cuda.is_available():\n",
        "    device = \"cuda\"\n",
        "    print('GPU')\n",
        "else:\n",
        "    device = \"cpu\"\n",
        "    batch_size = 16\n",
        "    num_workers = 0\n",
        "    epochs_count = 10\n",
        "    print('CPU')\n",
        "\n",
        "model.to(device)\n",
        "\n",
        "#SGDoptimizer\n",
        "optimizer = optim.SGD(model.parameters(), lr=learning_rate)\n",
        "\n",
        "#array for plotting\n",
        "best_loss = torch.tensor(np.inf)\n",
        "\n",
        "# epoch train/test loss\n",
        "epoch_train_loss = np.array([])\n",
        "epoch_test_loss = np.array([])\n",
        "\n",
        "# epch train/test accuracy\n",
        "epoch_train_acc = np.array([])\n",
        "epoch_test_acc = np.array([])"
      ],
      "execution_count": 9,
      "outputs": [
        {
          "output_type": "stream",
          "text": [
            "GPU\n"
          ],
          "name": "stdout"
        }
      ]
    },
    {
      "cell_type": "code",
      "metadata": {
        "id": "ZOdWeCXxvkaC",
        "colab_type": "code",
        "colab": {}
      },
      "source": [
        "# train dataloader\n",
        "train_loader_aug = torch.utils.data.DataLoader(\n",
        "     train_aug,\n",
        "    batch_size=batch_size,\n",
        "    shuffle=True,\n",
        "    num_workers=num_workers\n",
        ")\n",
        "# test dataloader\n",
        "test_loader_aug = torch.utils.data.DataLoader(\n",
        "    test_aug,\n",
        "    batch_size=batch_size,\n",
        "    shuffle=False,\n",
        "    num_workers=num_workers\n",
        ")"
      ],
      "execution_count": 0,
      "outputs": []
    },
    {
      "cell_type": "code",
      "metadata": {
        "id": "VE6H7m-svksn",
        "colab_type": "code",
        "colab": {}
      },
      "source": [
        "def train(model, optimizer, train_loader, epoch_idx):\n",
        "    # change model in training mood\n",
        "    model.train()\n",
        "\n",
        "    # to get batch loss\n",
        "    batch_loss = np.array([])\n",
        "\n",
        "    # to get batch accuracy\n",
        "    batch_acc = np.array([])\n",
        "\n",
        "    for batch_idx, (data, target) in enumerate(train_loader):\n",
        "\n",
        "        # clone target\n",
        "        indx_target = target.clone()\n",
        "        # send data to device (its is medatory if GPU has to be used)\n",
        "        data = data.to(device)\n",
        "        # send target to device\n",
        "        target = target.to(device)\n",
        "\n",
        "        # reset parameters gradient to zero\n",
        "        optimizer.zero_grad()\n",
        "\n",
        "        # forward pass to the model\n",
        "        output = model(data)\n",
        "\n",
        "        # cross entropy loss\n",
        "        loss = F.cross_entropy(output, target)\n",
        "\n",
        "        # find gradients w.r.t training parameters\n",
        "        loss.backward()\n",
        "        # Update parameters using gardients\n",
        "        optimizer.step()\n",
        "\n",
        "        batch_loss = np.append(batch_loss, [loss.item()])\n",
        "\n",
        "        # Score to probability using softmax\n",
        "        prob = F.softmax(output, dim=1)\n",
        "\n",
        "        # get the index of the max probability\n",
        "        pred = prob.data.max(dim=1)[1]\n",
        "\n",
        "        # correct prediction\n",
        "        correct = pred.cpu().eq(indx_target).sum()\n",
        "\n",
        "        # accuracy\n",
        "        acc = float(correct) / float(len(data))\n",
        "\n",
        "        batch_acc = np.append(batch_acc, [acc])\n",
        "\n",
        "        if batch_idx % log_interval == 0 and batch_idx > 0:\n",
        "            print(\n",
        "                'Train Epoch: {} [{}/{}] Loss: {:.6f} Acc: {:.4f}'.format(\n",
        "                    epoch_idx, batch_idx * len(data), len(train_loader.dataset), loss.item(), acc\n",
        "                )\n",
        "            )\n",
        "\n",
        "    epoch_loss = batch_loss.mean()\n",
        "    epoch_acc = batch_acc.mean()\n",
        "    return epoch_loss, epoch_acc\n",
        "\n",
        "\n",
        "def validate(model, test_loader):\n",
        "    #\n",
        "    model.eval()\n",
        "    test_loss = 0\n",
        "    count_corect_predictions = 0\n",
        "    for data, target in test_loader:\n",
        "        indx_target = target.clone()\n",
        "        data = data.to(device)\n",
        "\n",
        "        target = target.to(device)\n",
        "\n",
        "        output = model(data)\n",
        "        # add loss for each mini batch\n",
        "        test_loss += F.cross_entropy(output, target).item()\n",
        "\n",
        "        # Score to probability using softmax\n",
        "        prob = F.softmax(output, dim=1)\n",
        "\n",
        "        # get the index of the max probability\n",
        "        pred = prob.data.max(dim=1)[1]\n",
        "\n",
        "        # add correct prediction count\n",
        "        count_corect_predictions += pred.cpu().eq(indx_target).sum()\n",
        "\n",
        "    # average over number of mini-batches\n",
        "    test_loss = test_loss / len(test_loader)\n",
        "\n",
        "    # average over number of dataset\n",
        "    accuracy = 100. * count_corect_predictions / len(test_loader.dataset)\n",
        "\n",
        "    print(\n",
        "        '\\nTest set: Average loss: {:.4f}, Accuracy: {}/{} ({:.0f}%)\\n'.format(\n",
        "            test_loss, count_corect_predictions, len(test_loader.dataset), accuracy\n",
        "        )\n",
        "    )\n",
        "    return test_loss, accuracy / 100.0\n"
      ],
      "execution_count": 0,
      "outputs": []
    },
    {
      "cell_type": "code",
      "metadata": {
        "id": "vjythJS-vkv_",
        "colab_type": "code",
        "outputId": "1fb32c95-1b75-42c5-8496-a5622e36c5c8",
        "colab": {
          "base_uri": "https://localhost:8080/",
          "height": 1000
        }
      },
      "source": [
        "#train\n",
        "t_begin = time.time()\n",
        "#for save best model\n",
        "best_model = copy.deepcopy(model)\n",
        "for epoch in range(epochs_count):\n",
        "\n",
        "    train_loss, train_acc = train(model, optimizer, train_loader_aug, epoch)\n",
        "\n",
        "    epoch_train_loss = np.append(epoch_train_loss, [train_loss])\n",
        "\n",
        "    epoch_train_acc = np.append(epoch_train_acc, [train_acc])\n",
        "\n",
        "    elapsed_time = time.time() - t_begin\n",
        "    speed_epoch = elapsed_time / (epoch + 1)\n",
        "    speed_batch = speed_epoch / len(train_loader_aug)\n",
        "    eta = speed_epoch * epochs_count - elapsed_time\n",
        "\n",
        "    print(\n",
        "        \"Elapsed {:.2f}s, {:.2f} s/epoch, {:.2f} s/batch, ets {:.2f}s\".format(\n",
        "            elapsed_time, speed_epoch, speed_batch, eta\n",
        "        )\n",
        "    )\n",
        "\n",
        "    if epoch % test_interval == 0:\n",
        "        current_loss, current_accuracy = validate(model, test_loader_aug)\n",
        "\n",
        "        epoch_test_loss = np.append(epoch_test_loss, [current_loss])\n",
        "\n",
        "        epoch_test_acc = np.append(epoch_test_acc, [current_accuracy])\n",
        "\n",
        "        if current_loss < best_loss:\n",
        "            best_loss = current_loss\n",
        "            best_model = copy.deepcopy(model)"
      ],
      "execution_count": 12,
      "outputs": [
        {
          "output_type": "stream",
          "text": [
            "Train Epoch: 0 [3200/10080] Loss: 2.066944 Acc: 0.5000\n",
            "Train Epoch: 0 [6400/10080] Loss: 1.460785 Acc: 0.8750\n",
            "Train Epoch: 0 [9600/10080] Loss: 0.705623 Acc: 1.0000\n",
            "Elapsed 1.83s, 1.83 s/epoch, 0.01 s/batch, ets 34.83s\n",
            "\n",
            "Test set: Average loss: 0.5651, Accuracy: 1680/1680 (100%)\n",
            "\n",
            "Train Epoch: 1 [3200/10080] Loss: 0.318583 Acc: 0.9688\n",
            "Train Epoch: 1 [6400/10080] Loss: 0.171680 Acc: 1.0000\n",
            "Train Epoch: 1 [9600/10080] Loss: 0.088264 Acc: 1.0000\n",
            "Elapsed 4.15s, 2.08 s/epoch, 0.01 s/batch, ets 37.36s\n",
            "\n",
            "Test set: Average loss: 0.0904, Accuracy: 1680/1680 (100%)\n",
            "\n",
            "Train Epoch: 2 [3200/10080] Loss: 0.045851 Acc: 1.0000\n",
            "Train Epoch: 2 [6400/10080] Loss: 0.058695 Acc: 1.0000\n",
            "Train Epoch: 2 [9600/10080] Loss: 0.028536 Acc: 1.0000\n",
            "Elapsed 6.49s, 2.16 s/epoch, 0.01 s/batch, ets 36.79s\n",
            "\n",
            "Test set: Average loss: 0.0341, Accuracy: 1680/1680 (100%)\n",
            "\n",
            "Train Epoch: 3 [3200/10080] Loss: 0.019477 Acc: 1.0000\n",
            "Train Epoch: 3 [6400/10080] Loss: 0.030600 Acc: 1.0000\n",
            "Train Epoch: 3 [9600/10080] Loss: 0.034936 Acc: 1.0000\n",
            "Elapsed 8.87s, 2.22 s/epoch, 0.01 s/batch, ets 35.47s\n",
            "\n",
            "Test set: Average loss: 0.0186, Accuracy: 1680/1680 (100%)\n",
            "\n",
            "Train Epoch: 4 [3200/10080] Loss: 0.013116 Acc: 1.0000\n",
            "Train Epoch: 4 [6400/10080] Loss: 0.012939 Acc: 1.0000\n",
            "Train Epoch: 4 [9600/10080] Loss: 0.008141 Acc: 1.0000\n",
            "Elapsed 11.22s, 2.24 s/epoch, 0.01 s/batch, ets 33.67s\n",
            "\n",
            "Test set: Average loss: 0.0130, Accuracy: 1680/1680 (100%)\n",
            "\n",
            "Train Epoch: 5 [3200/10080] Loss: 0.005133 Acc: 1.0000\n",
            "Train Epoch: 5 [6400/10080] Loss: 0.017599 Acc: 1.0000\n",
            "Train Epoch: 5 [9600/10080] Loss: 0.006956 Acc: 1.0000\n",
            "Elapsed 13.63s, 2.27 s/epoch, 0.01 s/batch, ets 31.80s\n",
            "\n",
            "Test set: Average loss: 0.0089, Accuracy: 1680/1680 (100%)\n",
            "\n",
            "Train Epoch: 6 [3200/10080] Loss: 0.006135 Acc: 1.0000\n",
            "Train Epoch: 6 [6400/10080] Loss: 0.008974 Acc: 1.0000\n",
            "Train Epoch: 6 [9600/10080] Loss: 0.008462 Acc: 1.0000\n",
            "Elapsed 15.90s, 2.27 s/epoch, 0.01 s/batch, ets 29.52s\n",
            "\n",
            "Test set: Average loss: 0.0078, Accuracy: 1680/1680 (100%)\n",
            "\n",
            "Train Epoch: 7 [3200/10080] Loss: 0.011487 Acc: 1.0000\n",
            "Train Epoch: 7 [6400/10080] Loss: 0.002025 Acc: 1.0000\n",
            "Train Epoch: 7 [9600/10080] Loss: 0.004667 Acc: 1.0000\n",
            "Elapsed 18.22s, 2.28 s/epoch, 0.01 s/batch, ets 27.33s\n",
            "\n",
            "Test set: Average loss: 0.0051, Accuracy: 1680/1680 (100%)\n",
            "\n",
            "Train Epoch: 8 [3200/10080] Loss: 0.014391 Acc: 1.0000\n",
            "Train Epoch: 8 [6400/10080] Loss: 0.004750 Acc: 1.0000\n",
            "Train Epoch: 8 [9600/10080] Loss: 0.005991 Acc: 1.0000\n",
            "Elapsed 20.48s, 2.28 s/epoch, 0.01 s/batch, ets 25.03s\n",
            "\n",
            "Test set: Average loss: 0.0048, Accuracy: 1680/1680 (100%)\n",
            "\n",
            "Train Epoch: 9 [3200/10080] Loss: 0.004185 Acc: 1.0000\n",
            "Train Epoch: 9 [6400/10080] Loss: 0.005623 Acc: 1.0000\n",
            "Train Epoch: 9 [9600/10080] Loss: 0.003823 Acc: 1.0000\n",
            "Elapsed 22.76s, 2.28 s/epoch, 0.01 s/batch, ets 22.76s\n",
            "\n",
            "Test set: Average loss: 0.0041, Accuracy: 1680/1680 (100%)\n",
            "\n",
            "Train Epoch: 10 [3200/10080] Loss: 0.005216 Acc: 1.0000\n",
            "Train Epoch: 10 [6400/10080] Loss: 0.001925 Acc: 1.0000\n",
            "Train Epoch: 10 [9600/10080] Loss: 0.002256 Acc: 1.0000\n",
            "Elapsed 25.02s, 2.27 s/epoch, 0.01 s/batch, ets 20.47s\n",
            "\n",
            "Test set: Average loss: 0.0040, Accuracy: 1680/1680 (100%)\n",
            "\n",
            "Train Epoch: 11 [3200/10080] Loss: 0.005218 Acc: 1.0000\n",
            "Train Epoch: 11 [6400/10080] Loss: 0.002131 Acc: 1.0000\n",
            "Train Epoch: 11 [9600/10080] Loss: 0.004544 Acc: 1.0000\n",
            "Elapsed 27.28s, 2.27 s/epoch, 0.01 s/batch, ets 18.19s\n",
            "\n",
            "Test set: Average loss: 0.0029, Accuracy: 1680/1680 (100%)\n",
            "\n",
            "Train Epoch: 12 [3200/10080] Loss: 0.002617 Acc: 1.0000\n",
            "Train Epoch: 12 [6400/10080] Loss: 0.002334 Acc: 1.0000\n",
            "Train Epoch: 12 [9600/10080] Loss: 0.001910 Acc: 1.0000\n",
            "Elapsed 29.56s, 2.27 s/epoch, 0.01 s/batch, ets 15.92s\n",
            "\n",
            "Test set: Average loss: 0.0028, Accuracy: 1680/1680 (100%)\n",
            "\n",
            "Train Epoch: 13 [3200/10080] Loss: 0.001549 Acc: 1.0000\n",
            "Train Epoch: 13 [6400/10080] Loss: 0.002716 Acc: 1.0000\n",
            "Train Epoch: 13 [9600/10080] Loss: 0.002524 Acc: 1.0000\n",
            "Elapsed 31.83s, 2.27 s/epoch, 0.01 s/batch, ets 13.64s\n",
            "\n",
            "Test set: Average loss: 0.0024, Accuracy: 1680/1680 (100%)\n",
            "\n",
            "Train Epoch: 14 [3200/10080] Loss: 0.002861 Acc: 1.0000\n",
            "Train Epoch: 14 [6400/10080] Loss: 0.002909 Acc: 1.0000\n",
            "Train Epoch: 14 [9600/10080] Loss: 0.002330 Acc: 1.0000\n",
            "Elapsed 34.10s, 2.27 s/epoch, 0.01 s/batch, ets 11.37s\n",
            "\n",
            "Test set: Average loss: 0.0018, Accuracy: 1680/1680 (100%)\n",
            "\n",
            "Train Epoch: 15 [3200/10080] Loss: 0.002001 Acc: 1.0000\n",
            "Train Epoch: 15 [6400/10080] Loss: 0.002132 Acc: 1.0000\n",
            "Train Epoch: 15 [9600/10080] Loss: 0.001674 Acc: 1.0000\n",
            "Elapsed 36.38s, 2.27 s/epoch, 0.01 s/batch, ets 9.09s\n",
            "\n",
            "Test set: Average loss: 0.0020, Accuracy: 1680/1680 (100%)\n",
            "\n",
            "Train Epoch: 16 [3200/10080] Loss: 0.002843 Acc: 1.0000\n",
            "Train Epoch: 16 [6400/10080] Loss: 0.001456 Acc: 1.0000\n",
            "Train Epoch: 16 [9600/10080] Loss: 0.002221 Acc: 1.0000\n",
            "Elapsed 38.67s, 2.27 s/epoch, 0.01 s/batch, ets 6.82s\n",
            "\n",
            "Test set: Average loss: 0.0016, Accuracy: 1680/1680 (100%)\n",
            "\n",
            "Train Epoch: 17 [3200/10080] Loss: 0.001428 Acc: 1.0000\n",
            "Train Epoch: 17 [6400/10080] Loss: 0.002917 Acc: 1.0000\n",
            "Train Epoch: 17 [9600/10080] Loss: 0.001012 Acc: 1.0000\n",
            "Elapsed 40.97s, 2.28 s/epoch, 0.01 s/batch, ets 4.55s\n",
            "\n",
            "Test set: Average loss: 0.0015, Accuracy: 1680/1680 (100%)\n",
            "\n",
            "Train Epoch: 18 [3200/10080] Loss: 0.001800 Acc: 1.0000\n",
            "Train Epoch: 18 [6400/10080] Loss: 0.003942 Acc: 1.0000\n",
            "Train Epoch: 18 [9600/10080] Loss: 0.001991 Acc: 1.0000\n",
            "Elapsed 43.28s, 2.28 s/epoch, 0.01 s/batch, ets 2.28s\n",
            "\n",
            "Test set: Average loss: 0.0015, Accuracy: 1680/1680 (100%)\n",
            "\n",
            "Train Epoch: 19 [3200/10080] Loss: 0.003108 Acc: 1.0000\n",
            "Train Epoch: 19 [6400/10080] Loss: 0.001845 Acc: 1.0000\n",
            "Train Epoch: 19 [9600/10080] Loss: 0.000722 Acc: 1.0000\n",
            "Elapsed 45.53s, 2.28 s/epoch, 0.01 s/batch, ets 0.00s\n",
            "\n",
            "Test set: Average loss: 0.0012, Accuracy: 1680/1680 (100%)\n",
            "\n"
          ],
          "name": "stdout"
        }
      ]
    },
    {
      "cell_type": "code",
      "metadata": {
        "id": "LUMHs1Revk4O",
        "colab_type": "code",
        "outputId": "6f7a8368-0f5a-4144-9ee9-79a58e688ee0",
        "colab": {
          "base_uri": "https://localhost:8080/",
          "height": 34
        }
      },
      "source": [
        "print(\"Total time: {:.2f}, Best Loss: {:.3f}\".format(time.time() - t_begin, best_loss))"
      ],
      "execution_count": 13,
      "outputs": [
        {
          "output_type": "stream",
          "text": [
            "Total time: 46.14, Best Loss: 0.001\n"
          ],
          "name": "stdout"
        }
      ]
    },
    {
      "cell_type": "code",
      "metadata": {
        "id": "WeeFfy2I99GO",
        "colab_type": "code",
        "outputId": "8de72f4b-d477-4ced-87d1-2ff323ade433",
        "colab": {
          "base_uri": "https://localhost:8080/",
          "height": 404
        }
      },
      "source": [
        "# Plot loss\n",
        "plt.rcParams[\"figure.figsize\"] = (10, 6)\n",
        "x = range(len(epoch_train_loss))\n",
        "\n",
        "plt.plot(x, epoch_train_loss, 'r', label=\"train loss\")\n",
        "plt.plot(x, epoch_test_loss, 'b',label=\"validation loss\")\n",
        "\n",
        "plt.xlabel('epoch no.')\n",
        "plt.ylabel('loss')\n",
        "plt.legend(loc='upper right')\n",
        "plt.title('Training and Validation Loss')\n",
        "plt.show()"
      ],
      "execution_count": 14,
      "outputs": [
        {
          "output_type": "display_data",
          "data": {
            "image/png": "[encoded data removed]",
            "text/plain": [
              "<Figure size 720x432 with 1 Axes>"
            ]
          },
          "metadata": {
            "tags": []
          }
        }
      ]
    },
    {
      "cell_type": "code",
      "metadata": {
        "id": "XtAuFBvK99I9",
        "colab_type": "code",
        "colab": {}
      },
      "source": [
        "#save model with best loss\n",
        "torch.save(best_model.state_dict(), '../content/gdrive/My Drive/models/aug_model.pth')"
      ],
      "execution_count": 0,
      "outputs": []
    },
    {
      "cell_type": "code",
      "metadata": {
        "id": "7TXaeqk499Kj",
        "colab_type": "code",
        "outputId": "754f4fe1-e784-4cb1-e006-c4e4242552fc",
        "colab": {
          "base_uri": "https://localhost:8080/",
          "height": 391
        }
      },
      "source": [
        "#download and test model\n",
        "model = LeNetBN()\n",
        "model.load_state_dict(torch.load('../content/gdrive/My Drive/models/aug_model.pth'))\n",
        "#print(model1)\n",
        "images, labels = next(iter(test_loader_aug))\n",
        "plt.imshow(images[0][0],'gray')\n",
        "image = images[0,:]#.to(device)\n",
        "image = image[None]\n",
        "plt.show()\n",
        "score = model(image)\n",
        "prob = nn.functional.softmax(score[0], dim=0)\n",
        "y_pred =  prob.argmax()\n",
        "print(\"Predicted class {} with probability {}\".format(y_pred, prob[y_pred]))"
      ],
      "execution_count": 16,
      "outputs": [
        {
          "output_type": "display_data",
          "data": {
            "image/png": "[encoded data removed]",
            "text/plain": [
              "<Figure size 720x432 with 1 Axes>"
            ]
          },
          "metadata": {
            "tags": []
          }
        },
        {
          "output_type": "stream",
          "text": [
            "Predicted class 0 with probability 0.9999929666519165\n"
          ],
          "name": "stdout"
        }
      ]
    },
    {
      "cell_type": "code",
      "metadata": {
        "id": "VHZWLiNkUHjk",
        "colab_type": "code",
        "colab": {}
      },
      "source": [
        "import pandas as pd\n",
        "test = pd.read_csv(\"../content/gdrive/My Drive/MNIST/test.csv\")\n",
        "test_image = test.loc[:,test.columns != \"label\"]\n",
        "test_dataset = torch.from_numpy(np.reshape(test_image.to_numpy().astype(np.uint8), (test_image.shape[0], 1, 28,28)))\n",
        "results = []\n",
        "with torch.no_grad():\n",
        "    model.eval()\n",
        "    for img in test_dataset:\n",
        "        img = transforms.ToPILImage()(img)\n",
        "        img = transforms.Resize((32, 32))(img)\n",
        "        img = transforms.ToTensor()(img)\n",
        "        img = transforms.Normalize((0.0664, ), (0.2043, ))(img)\n",
        "        test_im = img#.to(device)\n",
        "        test_im = test_im[None]\n",
        "        output = model(test_im)\n",
        "        prob = nn.functional.softmax(output[0], dim=0)\n",
        "        y_pred =  prob.argmax()\n",
        "        results.append( y_pred.cpu().data.numpy().tolist())"
      ],
      "execution_count": 0,
      "outputs": []
    },
    {
      "cell_type": "code",
      "metadata": {
        "id": "yhURP35V8hRv",
        "colab_type": "code",
        "colab": {
          "base_uri": "https://localhost:8080/",
          "height": 34
        },
        "outputId": "dd5b6beb-ef9d-43d1-bf3b-4b9a42f86bfe"
      },
      "source": [
        "len(results)"
      ],
      "execution_count": 18,
      "outputs": [
        {
          "output_type": "execute_result",
          "data": {
            "text/plain": [
              "28000"
            ]
          },
          "metadata": {
            "tags": []
          },
          "execution_count": 18
        }
      ]
    },
    {
      "cell_type": "code",
      "metadata": {
        "id": "-sVIN_Zj8jRI",
        "colab_type": "code",
        "colab": {}
      },
      "source": [
        "predictions = np.array(results).flatten()\n",
        "submissions=pd.DataFrame({\"ImageId\": list(range(1,len(predictions)+1)),\n",
        "                         \"Label\": predictions})\n",
        "submissions.to_csv(\"../content/gdrive/My Drive/MNIST/my_submissions04.csv\", index=False, header=True)"
      ],
      "execution_count": 0,
      "outputs": []
    }
  ]
}